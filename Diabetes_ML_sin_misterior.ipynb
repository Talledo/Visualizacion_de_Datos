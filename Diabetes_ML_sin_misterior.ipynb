{
  "nbformat": 4,
  "nbformat_minor": 0,
  "metadata": {
    "kernelspec": {
      "display_name": "Python 3",
      "language": "python",
      "name": "python3"
    },
    "language_info": {
      "codemirror_mode": {
        "name": "ipython",
        "version": 3
      },
      "file_extension": ".py",
      "mimetype": "text/x-python",
      "name": "python",
      "nbconvert_exporter": "python",
      "pygments_lexer": "ipython3",
      "version": "3.8.3"
    },
    "colab": {
      "provenance": [],
      "include_colab_link": true
    }
  },
  "cells": [
    {
      "cell_type": "markdown",
      "metadata": {
        "id": "view-in-github",
        "colab_type": "text"
      },
      "source": [
        "<a href=\"https://colab.research.google.com/github/Talledo/Visualizacion_de_Datos/blob/main/Diabetes_ML_sin_misterior.ipynb\" target=\"_parent\"><img src=\"https://colab.research.google.com/assets/colab-badge.svg\" alt=\"Open In Colab\"/></a>"
      ]
    },
    {
      "cell_type": "markdown",
      "metadata": {
        "id": "5ar5wNiweqGr"
      },
      "source": [
        "# **¿ Qué algortimos vamos a trabajar en clase ?**"
      ]
    },
    {
      "cell_type": "markdown",
      "metadata": {
        "id": "zwMnXHEmhDvE"
      },
      "source": [
        "***Clasificación***"
      ]
    },
    {
      "cell_type": "markdown",
      "metadata": {
        "id": "0vafguQFgetv"
      },
      "source": [
        "La clasificación es una subcategoría del aprendizaje supervisado en la que el objetivo es predecir las etiquetas de clase categóricas (discreta, valores no ordenados, pertenencia a grupo) de las nuevas instancias, basándonos en observaciones pasadas.\n",
        "\n",
        "Hay dos tipos principales de clasificaciones:\n",
        "\n",
        "**• Clasificación Binaria:** Es un tipo de clasificación en el que tan solo se pueden asignar dos clases diferentes (0 o 1). El ejemplo típico es la detección de email spam, en la que cada email es: spam → en cuyo caso será etiquetado con un 1 ; o no lo es → etiquetado con un 0.\n",
        "\n",
        "**• Clasificación Multi-clase:** Se pueden asignar múltiples categorías a las observaciones. Como el reconocimiento de caracteres de escritura manual de números (en el que las clases van de 0 a 9).\n",
        "\n",
        "**¿ Que otros ejemplos se les ocurren de clasificación ?**\n",
        "\n",
        "*Fuente: https://medium.com/datos-y-ciencia/aprendizaje-supervisado-introducci%C3%B3n-a-la-clasificaci%C3%B3n-y-principales-algoritmos-dadee99c9407*\n",
        "\n"
      ]
    },
    {
      "cell_type": "markdown",
      "metadata": {
        "id": "PhE1sJwIvKof"
      },
      "source": [
        "# Preparación de los datos y el módelo"
      ]
    },
    {
      "cell_type": "code",
      "metadata": {
        "id": "8uGmlaAgvKog"
      },
      "source": [
        "import pandas as pd\n",
        "import numpy as np"
      ],
      "execution_count": null,
      "outputs": []
    },
    {
      "cell_type": "code",
      "metadata": {
        "id": "UWP1VXzBvKoh"
      },
      "source": [
        "# set seed for reproducibility\n",
        "SEED = 20\n",
        "np.random.seed(SEED)"
      ],
      "execution_count": null,
      "outputs": []
    },
    {
      "cell_type": "code",
      "metadata": {
        "id": "PUSbrWWNvKoi"
      },
      "source": [
        "# Loading Data\n",
        "df = pd.read_csv('https://raw.githubusercontent.com/restevesd/diabetes-ml-apps/master/diabetes.csv')"
      ],
      "execution_count": null,
      "outputs": []
    },
    {
      "cell_type": "code",
      "source": [
        "df.info()"
      ],
      "metadata": {
        "colab": {
          "base_uri": "https://localhost:8080/"
        },
        "id": "0qlDtQmjk2gz",
        "outputId": "e2b00fc0-8e20-4ddf-8c06-3ee3342b1798"
      },
      "execution_count": null,
      "outputs": [
        {
          "output_type": "stream",
          "name": "stdout",
          "text": [
            "<class 'pandas.core.frame.DataFrame'>\n",
            "RangeIndex: 15000 entries, 0 to 14999\n",
            "Data columns (total 10 columns):\n",
            " #   Column                  Non-Null Count  Dtype  \n",
            "---  ------                  --------------  -----  \n",
            " 0   PatientID               15000 non-null  int64  \n",
            " 1   Pregnancies             15000 non-null  int64  \n",
            " 2   PlasmaGlucose           15000 non-null  int64  \n",
            " 3   DiastolicBloodPressure  15000 non-null  int64  \n",
            " 4   TricepsThickness        15000 non-null  int64  \n",
            " 5   SerumInsulin            15000 non-null  int64  \n",
            " 6   BMI                     15000 non-null  float64\n",
            " 7   DiabetesPedigree        15000 non-null  float64\n",
            " 8   Age                     15000 non-null  int64  \n",
            " 9   Diabetic                15000 non-null  int64  \n",
            "dtypes: float64(2), int64(8)\n",
            "memory usage: 1.1 MB\n"
          ]
        }
      ]
    },
    {
      "cell_type": "code",
      "source": [
        "df.head()"
      ],
      "metadata": {
        "colab": {
          "base_uri": "https://localhost:8080/",
          "height": 206
        },
        "id": "tgYrnlBly8GC",
        "outputId": "dfea1d5d-e528-40d1-969a-ebedcdb9fbc6"
      },
      "execution_count": null,
      "outputs": [
        {
          "output_type": "execute_result",
          "data": {
            "text/plain": [
              "   PatientID  Pregnancies  PlasmaGlucose  DiastolicBloodPressure  \\\n",
              "0    1354778            0            171                      80   \n",
              "1    1147438            8             92                      93   \n",
              "2    1640031            7            115                      47   \n",
              "3    1883350            9            103                      78   \n",
              "4    1424119            1             85                      59   \n",
              "\n",
              "   TricepsThickness  SerumInsulin        BMI  DiabetesPedigree  Age  Diabetic  \n",
              "0                34            23  43.509726          1.213191   21         0  \n",
              "1                47            36  21.240576          0.158365   23         0  \n",
              "2                52            35  41.511523          0.079019   23         0  \n",
              "3                25           304  29.582192          1.282870   43         1  \n",
              "4                27            35  42.604536          0.549542   22         0  "
            ],
            "text/html": [
              "\n",
              "  <div id=\"df-2deb29fc-3ece-4759-ad66-f84e7183a8c9\" class=\"colab-df-container\">\n",
              "    <div>\n",
              "<style scoped>\n",
              "    .dataframe tbody tr th:only-of-type {\n",
              "        vertical-align: middle;\n",
              "    }\n",
              "\n",
              "    .dataframe tbody tr th {\n",
              "        vertical-align: top;\n",
              "    }\n",
              "\n",
              "    .dataframe thead th {\n",
              "        text-align: right;\n",
              "    }\n",
              "</style>\n",
              "<table border=\"1\" class=\"dataframe\">\n",
              "  <thead>\n",
              "    <tr style=\"text-align: right;\">\n",
              "      <th></th>\n",
              "      <th>PatientID</th>\n",
              "      <th>Pregnancies</th>\n",
              "      <th>PlasmaGlucose</th>\n",
              "      <th>DiastolicBloodPressure</th>\n",
              "      <th>TricepsThickness</th>\n",
              "      <th>SerumInsulin</th>\n",
              "      <th>BMI</th>\n",
              "      <th>DiabetesPedigree</th>\n",
              "      <th>Age</th>\n",
              "      <th>Diabetic</th>\n",
              "    </tr>\n",
              "  </thead>\n",
              "  <tbody>\n",
              "    <tr>\n",
              "      <th>0</th>\n",
              "      <td>1354778</td>\n",
              "      <td>0</td>\n",
              "      <td>171</td>\n",
              "      <td>80</td>\n",
              "      <td>34</td>\n",
              "      <td>23</td>\n",
              "      <td>43.509726</td>\n",
              "      <td>1.213191</td>\n",
              "      <td>21</td>\n",
              "      <td>0</td>\n",
              "    </tr>\n",
              "    <tr>\n",
              "      <th>1</th>\n",
              "      <td>1147438</td>\n",
              "      <td>8</td>\n",
              "      <td>92</td>\n",
              "      <td>93</td>\n",
              "      <td>47</td>\n",
              "      <td>36</td>\n",
              "      <td>21.240576</td>\n",
              "      <td>0.158365</td>\n",
              "      <td>23</td>\n",
              "      <td>0</td>\n",
              "    </tr>\n",
              "    <tr>\n",
              "      <th>2</th>\n",
              "      <td>1640031</td>\n",
              "      <td>7</td>\n",
              "      <td>115</td>\n",
              "      <td>47</td>\n",
              "      <td>52</td>\n",
              "      <td>35</td>\n",
              "      <td>41.511523</td>\n",
              "      <td>0.079019</td>\n",
              "      <td>23</td>\n",
              "      <td>0</td>\n",
              "    </tr>\n",
              "    <tr>\n",
              "      <th>3</th>\n",
              "      <td>1883350</td>\n",
              "      <td>9</td>\n",
              "      <td>103</td>\n",
              "      <td>78</td>\n",
              "      <td>25</td>\n",
              "      <td>304</td>\n",
              "      <td>29.582192</td>\n",
              "      <td>1.282870</td>\n",
              "      <td>43</td>\n",
              "      <td>1</td>\n",
              "    </tr>\n",
              "    <tr>\n",
              "      <th>4</th>\n",
              "      <td>1424119</td>\n",
              "      <td>1</td>\n",
              "      <td>85</td>\n",
              "      <td>59</td>\n",
              "      <td>27</td>\n",
              "      <td>35</td>\n",
              "      <td>42.604536</td>\n",
              "      <td>0.549542</td>\n",
              "      <td>22</td>\n",
              "      <td>0</td>\n",
              "    </tr>\n",
              "  </tbody>\n",
              "</table>\n",
              "</div>\n",
              "    <div class=\"colab-df-buttons\">\n",
              "\n",
              "  <div class=\"colab-df-container\">\n",
              "    <button class=\"colab-df-convert\" onclick=\"convertToInteractive('df-2deb29fc-3ece-4759-ad66-f84e7183a8c9')\"\n",
              "            title=\"Convert this dataframe to an interactive table.\"\n",
              "            style=\"display:none;\">\n",
              "\n",
              "  <svg xmlns=\"http://www.w3.org/2000/svg\" height=\"24px\" viewBox=\"0 -960 960 960\">\n",
              "    <path d=\"M120-120v-720h720v720H120Zm60-500h600v-160H180v160Zm220 220h160v-160H400v160Zm0 220h160v-160H400v160ZM180-400h160v-160H180v160Zm440 0h160v-160H620v160ZM180-180h160v-160H180v160Zm440 0h160v-160H620v160Z\"/>\n",
              "  </svg>\n",
              "    </button>\n",
              "\n",
              "  <style>\n",
              "    .colab-df-container {\n",
              "      display:flex;\n",
              "      gap: 12px;\n",
              "    }\n",
              "\n",
              "    .colab-df-convert {\n",
              "      background-color: #E8F0FE;\n",
              "      border: none;\n",
              "      border-radius: 50%;\n",
              "      cursor: pointer;\n",
              "      display: none;\n",
              "      fill: #1967D2;\n",
              "      height: 32px;\n",
              "      padding: 0 0 0 0;\n",
              "      width: 32px;\n",
              "    }\n",
              "\n",
              "    .colab-df-convert:hover {\n",
              "      background-color: #E2EBFA;\n",
              "      box-shadow: 0px 1px 2px rgba(60, 64, 67, 0.3), 0px 1px 3px 1px rgba(60, 64, 67, 0.15);\n",
              "      fill: #174EA6;\n",
              "    }\n",
              "\n",
              "    .colab-df-buttons div {\n",
              "      margin-bottom: 4px;\n",
              "    }\n",
              "\n",
              "    [theme=dark] .colab-df-convert {\n",
              "      background-color: #3B4455;\n",
              "      fill: #D2E3FC;\n",
              "    }\n",
              "\n",
              "    [theme=dark] .colab-df-convert:hover {\n",
              "      background-color: #434B5C;\n",
              "      box-shadow: 0px 1px 3px 1px rgba(0, 0, 0, 0.15);\n",
              "      filter: drop-shadow(0px 1px 2px rgba(0, 0, 0, 0.3));\n",
              "      fill: #FFFFFF;\n",
              "    }\n",
              "  </style>\n",
              "\n",
              "    <script>\n",
              "      const buttonEl =\n",
              "        document.querySelector('#df-2deb29fc-3ece-4759-ad66-f84e7183a8c9 button.colab-df-convert');\n",
              "      buttonEl.style.display =\n",
              "        google.colab.kernel.accessAllowed ? 'block' : 'none';\n",
              "\n",
              "      async function convertToInteractive(key) {\n",
              "        const element = document.querySelector('#df-2deb29fc-3ece-4759-ad66-f84e7183a8c9');\n",
              "        const dataTable =\n",
              "          await google.colab.kernel.invokeFunction('convertToInteractive',\n",
              "                                                    [key], {});\n",
              "        if (!dataTable) return;\n",
              "\n",
              "        const docLinkHtml = 'Like what you see? Visit the ' +\n",
              "          '<a target=\"_blank\" href=https://colab.research.google.com/notebooks/data_table.ipynb>data table notebook</a>'\n",
              "          + ' to learn more about interactive tables.';\n",
              "        element.innerHTML = '';\n",
              "        dataTable['output_type'] = 'display_data';\n",
              "        await google.colab.output.renderOutput(dataTable, element);\n",
              "        const docLink = document.createElement('div');\n",
              "        docLink.innerHTML = docLinkHtml;\n",
              "        element.appendChild(docLink);\n",
              "      }\n",
              "    </script>\n",
              "  </div>\n",
              "\n",
              "\n",
              "<div id=\"df-706ff4a3-e93c-44c8-97d7-8fee06791290\">\n",
              "  <button class=\"colab-df-quickchart\" onclick=\"quickchart('df-706ff4a3-e93c-44c8-97d7-8fee06791290')\"\n",
              "            title=\"Suggest charts\"\n",
              "            style=\"display:none;\">\n",
              "\n",
              "<svg xmlns=\"http://www.w3.org/2000/svg\" height=\"24px\"viewBox=\"0 0 24 24\"\n",
              "     width=\"24px\">\n",
              "    <g>\n",
              "        <path d=\"M19 3H5c-1.1 0-2 .9-2 2v14c0 1.1.9 2 2 2h14c1.1 0 2-.9 2-2V5c0-1.1-.9-2-2-2zM9 17H7v-7h2v7zm4 0h-2V7h2v10zm4 0h-2v-4h2v4z\"/>\n",
              "    </g>\n",
              "</svg>\n",
              "  </button>\n",
              "\n",
              "<style>\n",
              "  .colab-df-quickchart {\n",
              "      --bg-color: #E8F0FE;\n",
              "      --fill-color: #1967D2;\n",
              "      --hover-bg-color: #E2EBFA;\n",
              "      --hover-fill-color: #174EA6;\n",
              "      --disabled-fill-color: #AAA;\n",
              "      --disabled-bg-color: #DDD;\n",
              "  }\n",
              "\n",
              "  [theme=dark] .colab-df-quickchart {\n",
              "      --bg-color: #3B4455;\n",
              "      --fill-color: #D2E3FC;\n",
              "      --hover-bg-color: #434B5C;\n",
              "      --hover-fill-color: #FFFFFF;\n",
              "      --disabled-bg-color: #3B4455;\n",
              "      --disabled-fill-color: #666;\n",
              "  }\n",
              "\n",
              "  .colab-df-quickchart {\n",
              "    background-color: var(--bg-color);\n",
              "    border: none;\n",
              "    border-radius: 50%;\n",
              "    cursor: pointer;\n",
              "    display: none;\n",
              "    fill: var(--fill-color);\n",
              "    height: 32px;\n",
              "    padding: 0;\n",
              "    width: 32px;\n",
              "  }\n",
              "\n",
              "  .colab-df-quickchart:hover {\n",
              "    background-color: var(--hover-bg-color);\n",
              "    box-shadow: 0 1px 2px rgba(60, 64, 67, 0.3), 0 1px 3px 1px rgba(60, 64, 67, 0.15);\n",
              "    fill: var(--button-hover-fill-color);\n",
              "  }\n",
              "\n",
              "  .colab-df-quickchart-complete:disabled,\n",
              "  .colab-df-quickchart-complete:disabled:hover {\n",
              "    background-color: var(--disabled-bg-color);\n",
              "    fill: var(--disabled-fill-color);\n",
              "    box-shadow: none;\n",
              "  }\n",
              "\n",
              "  .colab-df-spinner {\n",
              "    border: 2px solid var(--fill-color);\n",
              "    border-color: transparent;\n",
              "    border-bottom-color: var(--fill-color);\n",
              "    animation:\n",
              "      spin 1s steps(1) infinite;\n",
              "  }\n",
              "\n",
              "  @keyframes spin {\n",
              "    0% {\n",
              "      border-color: transparent;\n",
              "      border-bottom-color: var(--fill-color);\n",
              "      border-left-color: var(--fill-color);\n",
              "    }\n",
              "    20% {\n",
              "      border-color: transparent;\n",
              "      border-left-color: var(--fill-color);\n",
              "      border-top-color: var(--fill-color);\n",
              "    }\n",
              "    30% {\n",
              "      border-color: transparent;\n",
              "      border-left-color: var(--fill-color);\n",
              "      border-top-color: var(--fill-color);\n",
              "      border-right-color: var(--fill-color);\n",
              "    }\n",
              "    40% {\n",
              "      border-color: transparent;\n",
              "      border-right-color: var(--fill-color);\n",
              "      border-top-color: var(--fill-color);\n",
              "    }\n",
              "    60% {\n",
              "      border-color: transparent;\n",
              "      border-right-color: var(--fill-color);\n",
              "    }\n",
              "    80% {\n",
              "      border-color: transparent;\n",
              "      border-right-color: var(--fill-color);\n",
              "      border-bottom-color: var(--fill-color);\n",
              "    }\n",
              "    90% {\n",
              "      border-color: transparent;\n",
              "      border-bottom-color: var(--fill-color);\n",
              "    }\n",
              "  }\n",
              "</style>\n",
              "\n",
              "  <script>\n",
              "    async function quickchart(key) {\n",
              "      const quickchartButtonEl =\n",
              "        document.querySelector('#' + key + ' button');\n",
              "      quickchartButtonEl.disabled = true;  // To prevent multiple clicks.\n",
              "      quickchartButtonEl.classList.add('colab-df-spinner');\n",
              "      try {\n",
              "        const charts = await google.colab.kernel.invokeFunction(\n",
              "            'suggestCharts', [key], {});\n",
              "      } catch (error) {\n",
              "        console.error('Error during call to suggestCharts:', error);\n",
              "      }\n",
              "      quickchartButtonEl.classList.remove('colab-df-spinner');\n",
              "      quickchartButtonEl.classList.add('colab-df-quickchart-complete');\n",
              "    }\n",
              "    (() => {\n",
              "      let quickchartButtonEl =\n",
              "        document.querySelector('#df-706ff4a3-e93c-44c8-97d7-8fee06791290 button');\n",
              "      quickchartButtonEl.style.display =\n",
              "        google.colab.kernel.accessAllowed ? 'block' : 'none';\n",
              "    })();\n",
              "  </script>\n",
              "</div>\n",
              "    </div>\n",
              "  </div>\n"
            ]
          },
          "metadata": {},
          "execution_count": 5
        }
      ]
    },
    {
      "cell_type": "markdown",
      "source": [
        "**Vamos a utilizar solamente Glucosa y si tuvo diabetes o no **"
      ],
      "metadata": {
        "id": "bhHN2s93nRy_"
      }
    },
    {
      "cell_type": "code",
      "source": [
        "x = df[[\"PlasmaGlucose\"]]\n",
        "y = df[\"Diabetic\"]"
      ],
      "metadata": {
        "id": "ESPi0zdLnX_G"
      },
      "execution_count": null,
      "outputs": []
    },
    {
      "cell_type": "code",
      "metadata": {
        "id": "2FN6aKQCvKom",
        "colab": {
          "base_uri": "https://localhost:8080/"
        },
        "outputId": "ea1382d6-4446-45fc-c99a-806e88a45aa6"
      },
      "source": [
        "y"
      ],
      "execution_count": null,
      "outputs": [
        {
          "output_type": "execute_result",
          "data": {
            "text/plain": [
              "0        0\n",
              "1        0\n",
              "2        0\n",
              "3        1\n",
              "4        0\n",
              "        ..\n",
              "14995    1\n",
              "14996    1\n",
              "14997    0\n",
              "14998    0\n",
              "14999    1\n",
              "Name: Diabetic, Length: 15000, dtype: int64"
            ]
          },
          "metadata": {},
          "execution_count": 7
        }
      ]
    },
    {
      "cell_type": "code",
      "source": [
        "x"
      ],
      "metadata": {
        "colab": {
          "base_uri": "https://localhost:8080/",
          "height": 423
        },
        "id": "HTHEWPFPqA6j",
        "outputId": "31e711a2-1458-4f5c-b830-70ee57db5769"
      },
      "execution_count": null,
      "outputs": [
        {
          "output_type": "execute_result",
          "data": {
            "text/plain": [
              "       PlasmaGlucose\n",
              "0                171\n",
              "1                 92\n",
              "2                115\n",
              "3                103\n",
              "4                 85\n",
              "...              ...\n",
              "14995             65\n",
              "14996             73\n",
              "14997             93\n",
              "14998            132\n",
              "14999            114\n",
              "\n",
              "[15000 rows x 1 columns]"
            ],
            "text/html": [
              "\n",
              "  <div id=\"df-0d8b7647-f806-431c-bbeb-bc0ffa26bd59\" class=\"colab-df-container\">\n",
              "    <div>\n",
              "<style scoped>\n",
              "    .dataframe tbody tr th:only-of-type {\n",
              "        vertical-align: middle;\n",
              "    }\n",
              "\n",
              "    .dataframe tbody tr th {\n",
              "        vertical-align: top;\n",
              "    }\n",
              "\n",
              "    .dataframe thead th {\n",
              "        text-align: right;\n",
              "    }\n",
              "</style>\n",
              "<table border=\"1\" class=\"dataframe\">\n",
              "  <thead>\n",
              "    <tr style=\"text-align: right;\">\n",
              "      <th></th>\n",
              "      <th>PlasmaGlucose</th>\n",
              "    </tr>\n",
              "  </thead>\n",
              "  <tbody>\n",
              "    <tr>\n",
              "      <th>0</th>\n",
              "      <td>171</td>\n",
              "    </tr>\n",
              "    <tr>\n",
              "      <th>1</th>\n",
              "      <td>92</td>\n",
              "    </tr>\n",
              "    <tr>\n",
              "      <th>2</th>\n",
              "      <td>115</td>\n",
              "    </tr>\n",
              "    <tr>\n",
              "      <th>3</th>\n",
              "      <td>103</td>\n",
              "    </tr>\n",
              "    <tr>\n",
              "      <th>4</th>\n",
              "      <td>85</td>\n",
              "    </tr>\n",
              "    <tr>\n",
              "      <th>...</th>\n",
              "      <td>...</td>\n",
              "    </tr>\n",
              "    <tr>\n",
              "      <th>14995</th>\n",
              "      <td>65</td>\n",
              "    </tr>\n",
              "    <tr>\n",
              "      <th>14996</th>\n",
              "      <td>73</td>\n",
              "    </tr>\n",
              "    <tr>\n",
              "      <th>14997</th>\n",
              "      <td>93</td>\n",
              "    </tr>\n",
              "    <tr>\n",
              "      <th>14998</th>\n",
              "      <td>132</td>\n",
              "    </tr>\n",
              "    <tr>\n",
              "      <th>14999</th>\n",
              "      <td>114</td>\n",
              "    </tr>\n",
              "  </tbody>\n",
              "</table>\n",
              "<p>15000 rows × 1 columns</p>\n",
              "</div>\n",
              "    <div class=\"colab-df-buttons\">\n",
              "\n",
              "  <div class=\"colab-df-container\">\n",
              "    <button class=\"colab-df-convert\" onclick=\"convertToInteractive('df-0d8b7647-f806-431c-bbeb-bc0ffa26bd59')\"\n",
              "            title=\"Convert this dataframe to an interactive table.\"\n",
              "            style=\"display:none;\">\n",
              "\n",
              "  <svg xmlns=\"http://www.w3.org/2000/svg\" height=\"24px\" viewBox=\"0 -960 960 960\">\n",
              "    <path d=\"M120-120v-720h720v720H120Zm60-500h600v-160H180v160Zm220 220h160v-160H400v160Zm0 220h160v-160H400v160ZM180-400h160v-160H180v160Zm440 0h160v-160H620v160ZM180-180h160v-160H180v160Zm440 0h160v-160H620v160Z\"/>\n",
              "  </svg>\n",
              "    </button>\n",
              "\n",
              "  <style>\n",
              "    .colab-df-container {\n",
              "      display:flex;\n",
              "      gap: 12px;\n",
              "    }\n",
              "\n",
              "    .colab-df-convert {\n",
              "      background-color: #E8F0FE;\n",
              "      border: none;\n",
              "      border-radius: 50%;\n",
              "      cursor: pointer;\n",
              "      display: none;\n",
              "      fill: #1967D2;\n",
              "      height: 32px;\n",
              "      padding: 0 0 0 0;\n",
              "      width: 32px;\n",
              "    }\n",
              "\n",
              "    .colab-df-convert:hover {\n",
              "      background-color: #E2EBFA;\n",
              "      box-shadow: 0px 1px 2px rgba(60, 64, 67, 0.3), 0px 1px 3px 1px rgba(60, 64, 67, 0.15);\n",
              "      fill: #174EA6;\n",
              "    }\n",
              "\n",
              "    .colab-df-buttons div {\n",
              "      margin-bottom: 4px;\n",
              "    }\n",
              "\n",
              "    [theme=dark] .colab-df-convert {\n",
              "      background-color: #3B4455;\n",
              "      fill: #D2E3FC;\n",
              "    }\n",
              "\n",
              "    [theme=dark] .colab-df-convert:hover {\n",
              "      background-color: #434B5C;\n",
              "      box-shadow: 0px 1px 3px 1px rgba(0, 0, 0, 0.15);\n",
              "      filter: drop-shadow(0px 1px 2px rgba(0, 0, 0, 0.3));\n",
              "      fill: #FFFFFF;\n",
              "    }\n",
              "  </style>\n",
              "\n",
              "    <script>\n",
              "      const buttonEl =\n",
              "        document.querySelector('#df-0d8b7647-f806-431c-bbeb-bc0ffa26bd59 button.colab-df-convert');\n",
              "      buttonEl.style.display =\n",
              "        google.colab.kernel.accessAllowed ? 'block' : 'none';\n",
              "\n",
              "      async function convertToInteractive(key) {\n",
              "        const element = document.querySelector('#df-0d8b7647-f806-431c-bbeb-bc0ffa26bd59');\n",
              "        const dataTable =\n",
              "          await google.colab.kernel.invokeFunction('convertToInteractive',\n",
              "                                                    [key], {});\n",
              "        if (!dataTable) return;\n",
              "\n",
              "        const docLinkHtml = 'Like what you see? Visit the ' +\n",
              "          '<a target=\"_blank\" href=https://colab.research.google.com/notebooks/data_table.ipynb>data table notebook</a>'\n",
              "          + ' to learn more about interactive tables.';\n",
              "        element.innerHTML = '';\n",
              "        dataTable['output_type'] = 'display_data';\n",
              "        await google.colab.output.renderOutput(dataTable, element);\n",
              "        const docLink = document.createElement('div');\n",
              "        docLink.innerHTML = docLinkHtml;\n",
              "        element.appendChild(docLink);\n",
              "      }\n",
              "    </script>\n",
              "  </div>\n",
              "\n",
              "\n",
              "<div id=\"df-99d8c7b9-3994-4a44-8c81-ea530659a454\">\n",
              "  <button class=\"colab-df-quickchart\" onclick=\"quickchart('df-99d8c7b9-3994-4a44-8c81-ea530659a454')\"\n",
              "            title=\"Suggest charts\"\n",
              "            style=\"display:none;\">\n",
              "\n",
              "<svg xmlns=\"http://www.w3.org/2000/svg\" height=\"24px\"viewBox=\"0 0 24 24\"\n",
              "     width=\"24px\">\n",
              "    <g>\n",
              "        <path d=\"M19 3H5c-1.1 0-2 .9-2 2v14c0 1.1.9 2 2 2h14c1.1 0 2-.9 2-2V5c0-1.1-.9-2-2-2zM9 17H7v-7h2v7zm4 0h-2V7h2v10zm4 0h-2v-4h2v4z\"/>\n",
              "    </g>\n",
              "</svg>\n",
              "  </button>\n",
              "\n",
              "<style>\n",
              "  .colab-df-quickchart {\n",
              "      --bg-color: #E8F0FE;\n",
              "      --fill-color: #1967D2;\n",
              "      --hover-bg-color: #E2EBFA;\n",
              "      --hover-fill-color: #174EA6;\n",
              "      --disabled-fill-color: #AAA;\n",
              "      --disabled-bg-color: #DDD;\n",
              "  }\n",
              "\n",
              "  [theme=dark] .colab-df-quickchart {\n",
              "      --bg-color: #3B4455;\n",
              "      --fill-color: #D2E3FC;\n",
              "      --hover-bg-color: #434B5C;\n",
              "      --hover-fill-color: #FFFFFF;\n",
              "      --disabled-bg-color: #3B4455;\n",
              "      --disabled-fill-color: #666;\n",
              "  }\n",
              "\n",
              "  .colab-df-quickchart {\n",
              "    background-color: var(--bg-color);\n",
              "    border: none;\n",
              "    border-radius: 50%;\n",
              "    cursor: pointer;\n",
              "    display: none;\n",
              "    fill: var(--fill-color);\n",
              "    height: 32px;\n",
              "    padding: 0;\n",
              "    width: 32px;\n",
              "  }\n",
              "\n",
              "  .colab-df-quickchart:hover {\n",
              "    background-color: var(--hover-bg-color);\n",
              "    box-shadow: 0 1px 2px rgba(60, 64, 67, 0.3), 0 1px 3px 1px rgba(60, 64, 67, 0.15);\n",
              "    fill: var(--button-hover-fill-color);\n",
              "  }\n",
              "\n",
              "  .colab-df-quickchart-complete:disabled,\n",
              "  .colab-df-quickchart-complete:disabled:hover {\n",
              "    background-color: var(--disabled-bg-color);\n",
              "    fill: var(--disabled-fill-color);\n",
              "    box-shadow: none;\n",
              "  }\n",
              "\n",
              "  .colab-df-spinner {\n",
              "    border: 2px solid var(--fill-color);\n",
              "    border-color: transparent;\n",
              "    border-bottom-color: var(--fill-color);\n",
              "    animation:\n",
              "      spin 1s steps(1) infinite;\n",
              "  }\n",
              "\n",
              "  @keyframes spin {\n",
              "    0% {\n",
              "      border-color: transparent;\n",
              "      border-bottom-color: var(--fill-color);\n",
              "      border-left-color: var(--fill-color);\n",
              "    }\n",
              "    20% {\n",
              "      border-color: transparent;\n",
              "      border-left-color: var(--fill-color);\n",
              "      border-top-color: var(--fill-color);\n",
              "    }\n",
              "    30% {\n",
              "      border-color: transparent;\n",
              "      border-left-color: var(--fill-color);\n",
              "      border-top-color: var(--fill-color);\n",
              "      border-right-color: var(--fill-color);\n",
              "    }\n",
              "    40% {\n",
              "      border-color: transparent;\n",
              "      border-right-color: var(--fill-color);\n",
              "      border-top-color: var(--fill-color);\n",
              "    }\n",
              "    60% {\n",
              "      border-color: transparent;\n",
              "      border-right-color: var(--fill-color);\n",
              "    }\n",
              "    80% {\n",
              "      border-color: transparent;\n",
              "      border-right-color: var(--fill-color);\n",
              "      border-bottom-color: var(--fill-color);\n",
              "    }\n",
              "    90% {\n",
              "      border-color: transparent;\n",
              "      border-bottom-color: var(--fill-color);\n",
              "    }\n",
              "  }\n",
              "</style>\n",
              "\n",
              "  <script>\n",
              "    async function quickchart(key) {\n",
              "      const quickchartButtonEl =\n",
              "        document.querySelector('#' + key + ' button');\n",
              "      quickchartButtonEl.disabled = true;  // To prevent multiple clicks.\n",
              "      quickchartButtonEl.classList.add('colab-df-spinner');\n",
              "      try {\n",
              "        const charts = await google.colab.kernel.invokeFunction(\n",
              "            'suggestCharts', [key], {});\n",
              "      } catch (error) {\n",
              "        console.error('Error during call to suggestCharts:', error);\n",
              "      }\n",
              "      quickchartButtonEl.classList.remove('colab-df-spinner');\n",
              "      quickchartButtonEl.classList.add('colab-df-quickchart-complete');\n",
              "    }\n",
              "    (() => {\n",
              "      let quickchartButtonEl =\n",
              "        document.querySelector('#df-99d8c7b9-3994-4a44-8c81-ea530659a454 button');\n",
              "      quickchartButtonEl.style.display =\n",
              "        google.colab.kernel.accessAllowed ? 'block' : 'none';\n",
              "    })();\n",
              "  </script>\n",
              "</div>\n",
              "    </div>\n",
              "  </div>\n"
            ]
          },
          "metadata": {},
          "execution_count": 8
        }
      ]
    },
    {
      "cell_type": "markdown",
      "metadata": {
        "id": "9p2I2XEZtt8s"
      },
      "source": [
        "**Train | Test**"
      ]
    },
    {
      "cell_type": "markdown",
      "metadata": {
        "id": "5zvYbPRrtxGc"
      },
      "source": [
        "Entre las herramientas de **Scikit-learn** nos podemos encontrar con la función train_test_split.\n",
        "\n",
        "Una función que nos permite dividir un conjunto de datos en uno de entrenamiento y otro de test.\n",
        "\n",
        "https://www.analyticslane.com/2020/04/20/entrenamiento-validacion-y-test-con-scikit-learn/\n",
        "\n",
        "https://qu4nt.github.io/sklearn-doc-es/modules/generated/sklearn.model_selection.train_test_split.html?highlight=train%20test#sklearn.model_selection.train_test_split\n",
        "\n"
      ]
    },
    {
      "cell_type": "code",
      "metadata": {
        "colab": {
          "base_uri": "https://localhost:8080/"
        },
        "id": "vFWFTPuCw7Oz",
        "outputId": "fc6d8ac6-369e-46b7-8811-8a00b25f458f"
      },
      "source": [
        "df[\"Diabetic\"].value_counts()"
      ],
      "execution_count": null,
      "outputs": [
        {
          "output_type": "execute_result",
          "data": {
            "text/plain": [
              "0    10000\n",
              "1     5000\n",
              "Name: Diabetic, dtype: int64"
            ]
          },
          "metadata": {},
          "execution_count": 9
        }
      ]
    },
    {
      "cell_type": "code",
      "metadata": {
        "id": "5-zf9W2FvKom"
      },
      "source": [
        "#Keeping train  size as 0.8\n",
        "from sklearn.model_selection import train_test_split\n",
        "X_train,X_test,Y_train,Y_test = train_test_split(x,y,test_size=0.2,random_state=20)"
      ],
      "execution_count": null,
      "outputs": []
    },
    {
      "cell_type": "markdown",
      "metadata": {
        "id": "xEJE99L4aB3k"
      },
      "source": [
        "**Regresión Logística**"
      ]
    },
    {
      "cell_type": "markdown",
      "metadata": {
        "id": "BpEpIJnDaENf"
      },
      "source": [
        "• La regresión logística, a pesar de su nombre, es un modelo lineal de clasificación más que de regresión.\n",
        "\n",
        "• La regresión logística también se conoce como regresión logit.\n",
        "\n",
        "• En este modelo, las probabilidades que describen los posibles resultados de un único ensayo se modelan mediante una función logística.\n",
        "\n",
        "https://www.iartificial.net/como-usar-regresion-logistica-en-python/\n",
        "\n",
        "https://qu4nt.github.io/sklearn-doc-es/modules/generated/sklearn.linear_model.LogisticRegression.html#sklearn.linear_model.LogisticRegression"
      ]
    },
    {
      "cell_type": "markdown",
      "metadata": {
        "id": "jyCCxC5_bniB"
      },
      "source": [
        "![image.png](data:image/png;base64,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)"
      ]
    },
    {
      "cell_type": "code",
      "metadata": {
        "id": "4wCBR6N_vKoo"
      },
      "source": [
        "# Lets try Logistic regression now\n",
        "from sklearn.linear_model import LogisticRegression\n",
        "from sklearn.metrics import accuracy_score"
      ],
      "execution_count": null,
      "outputs": []
    },
    {
      "cell_type": "code",
      "source": [
        "log_model = LogisticRegression()"
      ],
      "metadata": {
        "id": "ki5sCWU3t3uY"
      },
      "execution_count": null,
      "outputs": []
    },
    {
      "cell_type": "code",
      "source": [
        "log_model_entrenado = log_model.fit(X_train,Y_train)"
      ],
      "metadata": {
        "id": "u-flrLy1t6KA"
      },
      "execution_count": null,
      "outputs": []
    },
    {
      "cell_type": "code",
      "source": [
        "log_pred=log_model_entrenado.predict(X_test)\n",
        "lr = accuracy_score(Y_test, log_pred) * 100"
      ],
      "metadata": {
        "id": "qkypqFXvrP9T"
      },
      "execution_count": null,
      "outputs": []
    },
    {
      "cell_type": "code",
      "metadata": {
        "colab": {
          "base_uri": "https://localhost:8080/"
        },
        "id": "K4rlwG1ycVCo",
        "outputId": "7193672a-3469-48ca-a476-34cd5890c640"
      },
      "source": [
        "lr"
      ],
      "execution_count": null,
      "outputs": [
        {
          "output_type": "execute_result",
          "data": {
            "text/plain": [
              "67.06666666666666"
            ]
          },
          "metadata": {},
          "execution_count": 15
        }
      ]
    },
    {
      "cell_type": "markdown",
      "source": [
        "# Matriz de confusión"
      ],
      "metadata": {
        "id": "lZKU5TCvuuTf"
      }
    },
    {
      "cell_type": "code",
      "metadata": {
        "id": "ZFvchCwM3mSq"
      },
      "source": [
        "from sklearn.metrics import confusion_matrix, ConfusionMatrixDisplay\n",
        "import matplotlib.pyplot as plt\n"
      ],
      "execution_count": null,
      "outputs": []
    },
    {
      "cell_type": "code",
      "source": [
        "cm = confusion_matrix(Y_test, log_pred, labels=log_model_entrenado.classes_)\n",
        "disp = ConfusionMatrixDisplay(confusion_matrix=cm,display_labels=log_model_entrenado.classes_)\n",
        "disp.plot()\n",
        "plt.show()"
      ],
      "metadata": {
        "colab": {
          "base_uri": "https://localhost:8080/",
          "height": 453
        },
        "id": "gsh_6u9bwWGO",
        "outputId": "fddccf94-37a1-436f-d270-d613c5ba2b8d"
      },
      "execution_count": null,
      "outputs": [
        {
          "output_type": "display_data",
          "data": {
            "text/plain": [
              "<Figure size 640x480 with 2 Axes>"
            ],
            "image/png": "[encoded data removed]"
          },
          "metadata": {}
        }
      ]
    },
    {
      "cell_type": "markdown",
      "source": [
        "**Probemos todas las variables**"
      ],
      "metadata": {
        "id": "MS0LBNQjKh19"
      }
    },
    {
      "cell_type": "code",
      "source": [
        "df.head(2)"
      ],
      "metadata": {
        "colab": {
          "base_uri": "https://localhost:8080/",
          "height": 112
        },
        "id": "usm3Cg50-7YB",
        "outputId": "214fe4cf-8aaa-48e2-9d1a-50eb33f70c58"
      },
      "execution_count": null,
      "outputs": [
        {
          "output_type": "execute_result",
          "data": {
            "text/plain": [
              "   PatientID  Pregnancies  PlasmaGlucose  DiastolicBloodPressure  \\\n",
              "0    1354778            0            171                      80   \n",
              "1    1147438            8             92                      93   \n",
              "\n",
              "   TricepsThickness  SerumInsulin        BMI  DiabetesPedigree  Age  Diabetic  \n",
              "0                34            23  43.509726          1.213191   21         0  \n",
              "1                47            36  21.240576          0.158365   23         0  "
            ],
            "text/html": [
              "\n",
              "  <div id=\"df-42f55447-198e-4200-9f3a-e8e6d67b7298\" class=\"colab-df-container\">\n",
              "    <div>\n",
              "<style scoped>\n",
              "    .dataframe tbody tr th:only-of-type {\n",
              "        vertical-align: middle;\n",
              "    }\n",
              "\n",
              "    .dataframe tbody tr th {\n",
              "        vertical-align: top;\n",
              "    }\n",
              "\n",
              "    .dataframe thead th {\n",
              "        text-align: right;\n",
              "    }\n",
              "</style>\n",
              "<table border=\"1\" class=\"dataframe\">\n",
              "  <thead>\n",
              "    <tr style=\"text-align: right;\">\n",
              "      <th></th>\n",
              "      <th>PatientID</th>\n",
              "      <th>Pregnancies</th>\n",
              "      <th>PlasmaGlucose</th>\n",
              "      <th>DiastolicBloodPressure</th>\n",
              "      <th>TricepsThickness</th>\n",
              "      <th>SerumInsulin</th>\n",
              "      <th>BMI</th>\n",
              "      <th>DiabetesPedigree</th>\n",
              "      <th>Age</th>\n",
              "      <th>Diabetic</th>\n",
              "    </tr>\n",
              "  </thead>\n",
              "  <tbody>\n",
              "    <tr>\n",
              "      <th>0</th>\n",
              "      <td>1354778</td>\n",
              "      <td>0</td>\n",
              "      <td>171</td>\n",
              "      <td>80</td>\n",
              "      <td>34</td>\n",
              "      <td>23</td>\n",
              "      <td>43.509726</td>\n",
              "      <td>1.213191</td>\n",
              "      <td>21</td>\n",
              "      <td>0</td>\n",
              "    </tr>\n",
              "    <tr>\n",
              "      <th>1</th>\n",
              "      <td>1147438</td>\n",
              "      <td>8</td>\n",
              "      <td>92</td>\n",
              "      <td>93</td>\n",
              "      <td>47</td>\n",
              "      <td>36</td>\n",
              "      <td>21.240576</td>\n",
              "      <td>0.158365</td>\n",
              "      <td>23</td>\n",
              "      <td>0</td>\n",
              "    </tr>\n",
              "  </tbody>\n",
              "</table>\n",
              "</div>\n",
              "    <div class=\"colab-df-buttons\">\n",
              "\n",
              "  <div class=\"colab-df-container\">\n",
              "    <button class=\"colab-df-convert\" onclick=\"convertToInteractive('df-42f55447-198e-4200-9f3a-e8e6d67b7298')\"\n",
              "            title=\"Convert this dataframe to an interactive table.\"\n",
              "            style=\"display:none;\">\n",
              "\n",
              "  <svg xmlns=\"http://www.w3.org/2000/svg\" height=\"24px\" viewBox=\"0 -960 960 960\">\n",
              "    <path d=\"M120-120v-720h720v720H120Zm60-500h600v-160H180v160Zm220 220h160v-160H400v160Zm0 220h160v-160H400v160ZM180-400h160v-160H180v160Zm440 0h160v-160H620v160ZM180-180h160v-160H180v160Zm440 0h160v-160H620v160Z\"/>\n",
              "  </svg>\n",
              "    </button>\n",
              "\n",
              "  <style>\n",
              "    .colab-df-container {\n",
              "      display:flex;\n",
              "      gap: 12px;\n",
              "    }\n",
              "\n",
              "    .colab-df-convert {\n",
              "      background-color: #E8F0FE;\n",
              "      border: none;\n",
              "      border-radius: 50%;\n",
              "      cursor: pointer;\n",
              "      display: none;\n",
              "      fill: #1967D2;\n",
              "      height: 32px;\n",
              "      padding: 0 0 0 0;\n",
              "      width: 32px;\n",
              "    }\n",
              "\n",
              "    .colab-df-convert:hover {\n",
              "      background-color: #E2EBFA;\n",
              "      box-shadow: 0px 1px 2px rgba(60, 64, 67, 0.3), 0px 1px 3px 1px rgba(60, 64, 67, 0.15);\n",
              "      fill: #174EA6;\n",
              "    }\n",
              "\n",
              "    .colab-df-buttons div {\n",
              "      margin-bottom: 4px;\n",
              "    }\n",
              "\n",
              "    [theme=dark] .colab-df-convert {\n",
              "      background-color: #3B4455;\n",
              "      fill: #D2E3FC;\n",
              "    }\n",
              "\n",
              "    [theme=dark] .colab-df-convert:hover {\n",
              "      background-color: #434B5C;\n",
              "      box-shadow: 0px 1px 3px 1px rgba(0, 0, 0, 0.15);\n",
              "      filter: drop-shadow(0px 1px 2px rgba(0, 0, 0, 0.3));\n",
              "      fill: #FFFFFF;\n",
              "    }\n",
              "  </style>\n",
              "\n",
              "    <script>\n",
              "      const buttonEl =\n",
              "        document.querySelector('#df-42f55447-198e-4200-9f3a-e8e6d67b7298 button.colab-df-convert');\n",
              "      buttonEl.style.display =\n",
              "        google.colab.kernel.accessAllowed ? 'block' : 'none';\n",
              "\n",
              "      async function convertToInteractive(key) {\n",
              "        const element = document.querySelector('#df-42f55447-198e-4200-9f3a-e8e6d67b7298');\n",
              "        const dataTable =\n",
              "          await google.colab.kernel.invokeFunction('convertToInteractive',\n",
              "                                                    [key], {});\n",
              "        if (!dataTable) return;\n",
              "\n",
              "        const docLinkHtml = 'Like what you see? Visit the ' +\n",
              "          '<a target=\"_blank\" href=https://colab.research.google.com/notebooks/data_table.ipynb>data table notebook</a>'\n",
              "          + ' to learn more about interactive tables.';\n",
              "        element.innerHTML = '';\n",
              "        dataTable['output_type'] = 'display_data';\n",
              "        await google.colab.output.renderOutput(dataTable, element);\n",
              "        const docLink = document.createElement('div');\n",
              "        docLink.innerHTML = docLinkHtml;\n",
              "        element.appendChild(docLink);\n",
              "      }\n",
              "    </script>\n",
              "  </div>\n",
              "\n",
              "\n",
              "<div id=\"df-c15a1926-485e-4460-9649-56a73bfb4878\">\n",
              "  <button class=\"colab-df-quickchart\" onclick=\"quickchart('df-c15a1926-485e-4460-9649-56a73bfb4878')\"\n",
              "            title=\"Suggest charts\"\n",
              "            style=\"display:none;\">\n",
              "\n",
              "<svg xmlns=\"http://www.w3.org/2000/svg\" height=\"24px\"viewBox=\"0 0 24 24\"\n",
              "     width=\"24px\">\n",
              "    <g>\n",
              "        <path d=\"M19 3H5c-1.1 0-2 .9-2 2v14c0 1.1.9 2 2 2h14c1.1 0 2-.9 2-2V5c0-1.1-.9-2-2-2zM9 17H7v-7h2v7zm4 0h-2V7h2v10zm4 0h-2v-4h2v4z\"/>\n",
              "    </g>\n",
              "</svg>\n",
              "  </button>\n",
              "\n",
              "<style>\n",
              "  .colab-df-quickchart {\n",
              "      --bg-color: #E8F0FE;\n",
              "      --fill-color: #1967D2;\n",
              "      --hover-bg-color: #E2EBFA;\n",
              "      --hover-fill-color: #174EA6;\n",
              "      --disabled-fill-color: #AAA;\n",
              "      --disabled-bg-color: #DDD;\n",
              "  }\n",
              "\n",
              "  [theme=dark] .colab-df-quickchart {\n",
              "      --bg-color: #3B4455;\n",
              "      --fill-color: #D2E3FC;\n",
              "      --hover-bg-color: #434B5C;\n",
              "      --hover-fill-color: #FFFFFF;\n",
              "      --disabled-bg-color: #3B4455;\n",
              "      --disabled-fill-color: #666;\n",
              "  }\n",
              "\n",
              "  .colab-df-quickchart {\n",
              "    background-color: var(--bg-color);\n",
              "    border: none;\n",
              "    border-radius: 50%;\n",
              "    cursor: pointer;\n",
              "    display: none;\n",
              "    fill: var(--fill-color);\n",
              "    height: 32px;\n",
              "    padding: 0;\n",
              "    width: 32px;\n",
              "  }\n",
              "\n",
              "  .colab-df-quickchart:hover {\n",
              "    background-color: var(--hover-bg-color);\n",
              "    box-shadow: 0 1px 2px rgba(60, 64, 67, 0.3), 0 1px 3px 1px rgba(60, 64, 67, 0.15);\n",
              "    fill: var(--button-hover-fill-color);\n",
              "  }\n",
              "\n",
              "  .colab-df-quickchart-complete:disabled,\n",
              "  .colab-df-quickchart-complete:disabled:hover {\n",
              "    background-color: var(--disabled-bg-color);\n",
              "    fill: var(--disabled-fill-color);\n",
              "    box-shadow: none;\n",
              "  }\n",
              "\n",
              "  .colab-df-spinner {\n",
              "    border: 2px solid var(--fill-color);\n",
              "    border-color: transparent;\n",
              "    border-bottom-color: var(--fill-color);\n",
              "    animation:\n",
              "      spin 1s steps(1) infinite;\n",
              "  }\n",
              "\n",
              "  @keyframes spin {\n",
              "    0% {\n",
              "      border-color: transparent;\n",
              "      border-bottom-color: var(--fill-color);\n",
              "      border-left-color: var(--fill-color);\n",
              "    }\n",
              "    20% {\n",
              "      border-color: transparent;\n",
              "      border-left-color: var(--fill-color);\n",
              "      border-top-color: var(--fill-color);\n",
              "    }\n",
              "    30% {\n",
              "      border-color: transparent;\n",
              "      border-left-color: var(--fill-color);\n",
              "      border-top-color: var(--fill-color);\n",
              "      border-right-color: var(--fill-color);\n",
              "    }\n",
              "    40% {\n",
              "      border-color: transparent;\n",
              "      border-right-color: var(--fill-color);\n",
              "      border-top-color: var(--fill-color);\n",
              "    }\n",
              "    60% {\n",
              "      border-color: transparent;\n",
              "      border-right-color: var(--fill-color);\n",
              "    }\n",
              "    80% {\n",
              "      border-color: transparent;\n",
              "      border-right-color: var(--fill-color);\n",
              "      border-bottom-color: var(--fill-color);\n",
              "    }\n",
              "    90% {\n",
              "      border-color: transparent;\n",
              "      border-bottom-color: var(--fill-color);\n",
              "    }\n",
              "  }\n",
              "</style>\n",
              "\n",
              "  <script>\n",
              "    async function quickchart(key) {\n",
              "      const quickchartButtonEl =\n",
              "        document.querySelector('#' + key + ' button');\n",
              "      quickchartButtonEl.disabled = true;  // To prevent multiple clicks.\n",
              "      quickchartButtonEl.classList.add('colab-df-spinner');\n",
              "      try {\n",
              "        const charts = await google.colab.kernel.invokeFunction(\n",
              "            'suggestCharts', [key], {});\n",
              "      } catch (error) {\n",
              "        console.error('Error during call to suggestCharts:', error);\n",
              "      }\n",
              "      quickchartButtonEl.classList.remove('colab-df-spinner');\n",
              "      quickchartButtonEl.classList.add('colab-df-quickchart-complete');\n",
              "    }\n",
              "    (() => {\n",
              "      let quickchartButtonEl =\n",
              "        document.querySelector('#df-c15a1926-485e-4460-9649-56a73bfb4878 button');\n",
              "      quickchartButtonEl.style.display =\n",
              "        google.colab.kernel.accessAllowed ? 'block' : 'none';\n",
              "    })();\n",
              "  </script>\n",
              "</div>\n",
              "    </div>\n",
              "  </div>\n"
            ]
          },
          "metadata": {},
          "execution_count": 18
        }
      ]
    },
    {
      "cell_type": "code",
      "source": [
        "X = df.drop(\"Diabetic\",axis=1) #Elimina la columna target \"Diabetic\"\n",
        "Y = df[\"Diabetic\"]"
      ],
      "metadata": {
        "id": "PLewKVRrKlIl"
      },
      "execution_count": null,
      "outputs": []
    },
    {
      "cell_type": "code",
      "source": [
        "X_train,X_test,Y_train,Y_test = train_test_split(X,Y,test_size=0.2,random_state=20, stratify=Y)"
      ],
      "metadata": {
        "id": "nlbFsM-TKqyl"
      },
      "execution_count": null,
      "outputs": []
    },
    {
      "cell_type": "code",
      "source": [
        "log_model = LogisticRegression()\n",
        "log_model = log_model.fit(X_train,Y_train)\n",
        "log_pred=log_model.predict(X_test)"
      ],
      "metadata": {
        "id": "Qm35GPKaKx6u"
      },
      "execution_count": null,
      "outputs": []
    },
    {
      "cell_type": "code",
      "source": [
        "lr = accuracy_score(Y_test, log_pred) * 100\n",
        "lr"
      ],
      "metadata": {
        "colab": {
          "base_uri": "https://localhost:8080/"
        },
        "id": "42ShJj1lK8XO",
        "outputId": "8cda19ad-554c-4f73-a1fd-9e1ebe476a6d"
      },
      "execution_count": null,
      "outputs": [
        {
          "output_type": "execute_result",
          "data": {
            "text/plain": [
              "66.66666666666666"
            ]
          },
          "metadata": {},
          "execution_count": 22
        }
      ]
    },
    {
      "cell_type": "code",
      "source": [
        "cm = confusion_matrix(Y_test, log_pred, labels=log_model.classes_)\n",
        "disp = ConfusionMatrixDisplay(confusion_matrix=cm,display_labels=log_model.classes_)\n",
        "disp.plot()\n",
        "plt.show()"
      ],
      "metadata": {
        "colab": {
          "base_uri": "https://localhost:8080/",
          "height": 455
        },
        "id": "w1GTiKSSK-5O",
        "outputId": "abd58d03-0459-409b-dc95-d3790b46c17e"
      },
      "execution_count": null,
      "outputs": [
        {
          "output_type": "display_data",
          "data": {
            "text/plain": [
              "<Figure size 640x480 with 2 Axes>"
            ],
            "image/png": "[encoded data removed]"
          },
          "metadata": {}
        }
      ]
    },
    {
      "cell_type": "markdown",
      "source": [
        "# Veamos otro modelo"
      ],
      "metadata": {
        "id": "9qf-NlKf2X8P"
      }
    },
    {
      "cell_type": "code",
      "source": [
        "from sklearn.ensemble import RandomForestClassifier"
      ],
      "metadata": {
        "id": "6EciB-em2Xiv"
      },
      "execution_count": null,
      "outputs": []
    },
    {
      "cell_type": "code",
      "source": [
        "X = df[[\"PlasmaGlucose\"]]\n",
        "Y = df[\"Diabetic\"]"
      ],
      "metadata": {
        "id": "N_wNur8W2epe"
      },
      "execution_count": null,
      "outputs": []
    },
    {
      "cell_type": "code",
      "source": [
        "X_train,X_test,Y_train,Y_test = train_test_split(X,Y,test_size=0.2,random_state=20, stratify=Y)"
      ],
      "metadata": {
        "id": "KXU5bTYX2pW-"
      },
      "execution_count": null,
      "outputs": []
    },
    {
      "cell_type": "code",
      "source": [
        "log_model = RandomForestClassifier()\n",
        "log_model = log_model.fit(X_train,Y_train)\n",
        "log_pred=log_model.predict(X_test)"
      ],
      "metadata": {
        "id": "M4TrbW1j24oH"
      },
      "execution_count": null,
      "outputs": []
    },
    {
      "cell_type": "code",
      "source": [
        "lr = log_model.score(X_test, Y_test) * 100\n",
        "lr"
      ],
      "metadata": {
        "colab": {
          "base_uri": "https://localhost:8080/"
        },
        "id": "xaPxk8y5265P",
        "outputId": "20ff51ac-d77b-4326-ed31-9e4a6d78394e"
      },
      "execution_count": null,
      "outputs": [
        {
          "output_type": "execute_result",
          "data": {
            "text/plain": [
              "75.33333333333333"
            ]
          },
          "metadata": {},
          "execution_count": 28
        }
      ]
    },
    {
      "cell_type": "code",
      "source": [
        "cm = confusion_matrix(Y_test, log_pred, labels=log_model.classes_)\n",
        "disp = ConfusionMatrixDisplay(confusion_matrix=cm,display_labels=log_model.classes_)\n",
        "disp.plot()\n",
        "plt.show()"
      ],
      "metadata": {
        "colab": {
          "base_uri": "https://localhost:8080/",
          "height": 449
        },
        "id": "yaa52rRL29hD",
        "outputId": "de66da33-efe0-4b51-98ae-555fed81f876"
      },
      "execution_count": null,
      "outputs": [
        {
          "output_type": "display_data",
          "data": {
            "text/plain": [
              "<Figure size 640x480 with 2 Axes>"
            ],
            "image/png": "[encoded data removed]"
          },
          "metadata": {}
        }
      ]
    },
    {
      "cell_type": "markdown",
      "source": [
        "# Probemos más variables"
      ],
      "metadata": {
        "id": "OEGvujvRy2Br"
      }
    },
    {
      "cell_type": "code",
      "source": [
        "X = df.drop([\"PatientID\",\"Diabetic\"],axis=1) #Elimina la columna target \"Diabetic\"\n",
        "Y = df[\"Diabetic\"]"
      ],
      "metadata": {
        "id": "xrh3TJn7y45j"
      },
      "execution_count": null,
      "outputs": []
    },
    {
      "cell_type": "code",
      "source": [
        "X.head()"
      ],
      "metadata": {
        "colab": {
          "base_uri": "https://localhost:8080/",
          "height": 206
        },
        "id": "CT-nrfwRDDcg",
        "outputId": "a03ebda6-3893-49d0-cf59-fb5d1d7e21ed"
      },
      "execution_count": null,
      "outputs": [
        {
          "output_type": "execute_result",
          "data": {
            "text/plain": [
              "   Pregnancies  PlasmaGlucose  DiastolicBloodPressure  TricepsThickness  \\\n",
              "0            0            171                      80                34   \n",
              "1            8             92                      93                47   \n",
              "2            7            115                      47                52   \n",
              "3            9            103                      78                25   \n",
              "4            1             85                      59                27   \n",
              "\n",
              "   SerumInsulin        BMI  DiabetesPedigree  Age  \n",
              "0            23  43.509726          1.213191   21  \n",
              "1            36  21.240576          0.158365   23  \n",
              "2            35  41.511523          0.079019   23  \n",
              "3           304  29.582192          1.282870   43  \n",
              "4            35  42.604536          0.549542   22  "
            ],
            "text/html": [
              "\n",
              "  <div id=\"df-b63c018a-abb5-4c10-9f0e-6903c4d1bf04\" class=\"colab-df-container\">\n",
              "    <div>\n",
              "<style scoped>\n",
              "    .dataframe tbody tr th:only-of-type {\n",
              "        vertical-align: middle;\n",
              "    }\n",
              "\n",
              "    .dataframe tbody tr th {\n",
              "        vertical-align: top;\n",
              "    }\n",
              "\n",
              "    .dataframe thead th {\n",
              "        text-align: right;\n",
              "    }\n",
              "</style>\n",
              "<table border=\"1\" class=\"dataframe\">\n",
              "  <thead>\n",
              "    <tr style=\"text-align: right;\">\n",
              "      <th></th>\n",
              "      <th>Pregnancies</th>\n",
              "      <th>PlasmaGlucose</th>\n",
              "      <th>DiastolicBloodPressure</th>\n",
              "      <th>TricepsThickness</th>\n",
              "      <th>SerumInsulin</th>\n",
              "      <th>BMI</th>\n",
              "      <th>DiabetesPedigree</th>\n",
              "      <th>Age</th>\n",
              "    </tr>\n",
              "  </thead>\n",
              "  <tbody>\n",
              "    <tr>\n",
              "      <th>0</th>\n",
              "      <td>0</td>\n",
              "      <td>171</td>\n",
              "      <td>80</td>\n",
              "      <td>34</td>\n",
              "      <td>23</td>\n",
              "      <td>43.509726</td>\n",
              "      <td>1.213191</td>\n",
              "      <td>21</td>\n",
              "    </tr>\n",
              "    <tr>\n",
              "      <th>1</th>\n",
              "      <td>8</td>\n",
              "      <td>92</td>\n",
              "      <td>93</td>\n",
              "      <td>47</td>\n",
              "      <td>36</td>\n",
              "      <td>21.240576</td>\n",
              "      <td>0.158365</td>\n",
              "      <td>23</td>\n",
              "    </tr>\n",
              "    <tr>\n",
              "      <th>2</th>\n",
              "      <td>7</td>\n",
              "      <td>115</td>\n",
              "      <td>47</td>\n",
              "      <td>52</td>\n",
              "      <td>35</td>\n",
              "      <td>41.511523</td>\n",
              "      <td>0.079019</td>\n",
              "      <td>23</td>\n",
              "    </tr>\n",
              "    <tr>\n",
              "      <th>3</th>\n",
              "      <td>9</td>\n",
              "      <td>103</td>\n",
              "      <td>78</td>\n",
              "      <td>25</td>\n",
              "      <td>304</td>\n",
              "      <td>29.582192</td>\n",
              "      <td>1.282870</td>\n",
              "      <td>43</td>\n",
              "    </tr>\n",
              "    <tr>\n",
              "      <th>4</th>\n",
              "      <td>1</td>\n",
              "      <td>85</td>\n",
              "      <td>59</td>\n",
              "      <td>27</td>\n",
              "      <td>35</td>\n",
              "      <td>42.604536</td>\n",
              "      <td>0.549542</td>\n",
              "      <td>22</td>\n",
              "    </tr>\n",
              "  </tbody>\n",
              "</table>\n",
              "</div>\n",
              "    <div class=\"colab-df-buttons\">\n",
              "\n",
              "  <div class=\"colab-df-container\">\n",
              "    <button class=\"colab-df-convert\" onclick=\"convertToInteractive('df-b63c018a-abb5-4c10-9f0e-6903c4d1bf04')\"\n",
              "            title=\"Convert this dataframe to an interactive table.\"\n",
              "            style=\"display:none;\">\n",
              "\n",
              "  <svg xmlns=\"http://www.w3.org/2000/svg\" height=\"24px\" viewBox=\"0 -960 960 960\">\n",
              "    <path d=\"M120-120v-720h720v720H120Zm60-500h600v-160H180v160Zm220 220h160v-160H400v160Zm0 220h160v-160H400v160ZM180-400h160v-160H180v160Zm440 0h160v-160H620v160ZM180-180h160v-160H180v160Zm440 0h160v-160H620v160Z\"/>\n",
              "  </svg>\n",
              "    </button>\n",
              "\n",
              "  <style>\n",
              "    .colab-df-container {\n",
              "      display:flex;\n",
              "      gap: 12px;\n",
              "    }\n",
              "\n",
              "    .colab-df-convert {\n",
              "      background-color: #E8F0FE;\n",
              "      border: none;\n",
              "      border-radius: 50%;\n",
              "      cursor: pointer;\n",
              "      display: none;\n",
              "      fill: #1967D2;\n",
              "      height: 32px;\n",
              "      padding: 0 0 0 0;\n",
              "      width: 32px;\n",
              "    }\n",
              "\n",
              "    .colab-df-convert:hover {\n",
              "      background-color: #E2EBFA;\n",
              "      box-shadow: 0px 1px 2px rgba(60, 64, 67, 0.3), 0px 1px 3px 1px rgba(60, 64, 67, 0.15);\n",
              "      fill: #174EA6;\n",
              "    }\n",
              "\n",
              "    .colab-df-buttons div {\n",
              "      margin-bottom: 4px;\n",
              "    }\n",
              "\n",
              "    [theme=dark] .colab-df-convert {\n",
              "      background-color: #3B4455;\n",
              "      fill: #D2E3FC;\n",
              "    }\n",
              "\n",
              "    [theme=dark] .colab-df-convert:hover {\n",
              "      background-color: #434B5C;\n",
              "      box-shadow: 0px 1px 3px 1px rgba(0, 0, 0, 0.15);\n",
              "      filter: drop-shadow(0px 1px 2px rgba(0, 0, 0, 0.3));\n",
              "      fill: #FFFFFF;\n",
              "    }\n",
              "  </style>\n",
              "\n",
              "    <script>\n",
              "      const buttonEl =\n",
              "        document.querySelector('#df-b63c018a-abb5-4c10-9f0e-6903c4d1bf04 button.colab-df-convert');\n",
              "      buttonEl.style.display =\n",
              "        google.colab.kernel.accessAllowed ? 'block' : 'none';\n",
              "\n",
              "      async function convertToInteractive(key) {\n",
              "        const element = document.querySelector('#df-b63c018a-abb5-4c10-9f0e-6903c4d1bf04');\n",
              "        const dataTable =\n",
              "          await google.colab.kernel.invokeFunction('convertToInteractive',\n",
              "                                                    [key], {});\n",
              "        if (!dataTable) return;\n",
              "\n",
              "        const docLinkHtml = 'Like what you see? Visit the ' +\n",
              "          '<a target=\"_blank\" href=https://colab.research.google.com/notebooks/data_table.ipynb>data table notebook</a>'\n",
              "          + ' to learn more about interactive tables.';\n",
              "        element.innerHTML = '';\n",
              "        dataTable['output_type'] = 'display_data';\n",
              "        await google.colab.output.renderOutput(dataTable, element);\n",
              "        const docLink = document.createElement('div');\n",
              "        docLink.innerHTML = docLinkHtml;\n",
              "        element.appendChild(docLink);\n",
              "      }\n",
              "    </script>\n",
              "  </div>\n",
              "\n",
              "\n",
              "<div id=\"df-b6e76e33-c409-4777-a38e-911c671dd4d9\">\n",
              "  <button class=\"colab-df-quickchart\" onclick=\"quickchart('df-b6e76e33-c409-4777-a38e-911c671dd4d9')\"\n",
              "            title=\"Suggest charts\"\n",
              "            style=\"display:none;\">\n",
              "\n",
              "<svg xmlns=\"http://www.w3.org/2000/svg\" height=\"24px\"viewBox=\"0 0 24 24\"\n",
              "     width=\"24px\">\n",
              "    <g>\n",
              "        <path d=\"M19 3H5c-1.1 0-2 .9-2 2v14c0 1.1.9 2 2 2h14c1.1 0 2-.9 2-2V5c0-1.1-.9-2-2-2zM9 17H7v-7h2v7zm4 0h-2V7h2v10zm4 0h-2v-4h2v4z\"/>\n",
              "    </g>\n",
              "</svg>\n",
              "  </button>\n",
              "\n",
              "<style>\n",
              "  .colab-df-quickchart {\n",
              "      --bg-color: #E8F0FE;\n",
              "      --fill-color: #1967D2;\n",
              "      --hover-bg-color: #E2EBFA;\n",
              "      --hover-fill-color: #174EA6;\n",
              "      --disabled-fill-color: #AAA;\n",
              "      --disabled-bg-color: #DDD;\n",
              "  }\n",
              "\n",
              "  [theme=dark] .colab-df-quickchart {\n",
              "      --bg-color: #3B4455;\n",
              "      --fill-color: #D2E3FC;\n",
              "      --hover-bg-color: #434B5C;\n",
              "      --hover-fill-color: #FFFFFF;\n",
              "      --disabled-bg-color: #3B4455;\n",
              "      --disabled-fill-color: #666;\n",
              "  }\n",
              "\n",
              "  .colab-df-quickchart {\n",
              "    background-color: var(--bg-color);\n",
              "    border: none;\n",
              "    border-radius: 50%;\n",
              "    cursor: pointer;\n",
              "    display: none;\n",
              "    fill: var(--fill-color);\n",
              "    height: 32px;\n",
              "    padding: 0;\n",
              "    width: 32px;\n",
              "  }\n",
              "\n",
              "  .colab-df-quickchart:hover {\n",
              "    background-color: var(--hover-bg-color);\n",
              "    box-shadow: 0 1px 2px rgba(60, 64, 67, 0.3), 0 1px 3px 1px rgba(60, 64, 67, 0.15);\n",
              "    fill: var(--button-hover-fill-color);\n",
              "  }\n",
              "\n",
              "  .colab-df-quickchart-complete:disabled,\n",
              "  .colab-df-quickchart-complete:disabled:hover {\n",
              "    background-color: var(--disabled-bg-color);\n",
              "    fill: var(--disabled-fill-color);\n",
              "    box-shadow: none;\n",
              "  }\n",
              "\n",
              "  .colab-df-spinner {\n",
              "    border: 2px solid var(--fill-color);\n",
              "    border-color: transparent;\n",
              "    border-bottom-color: var(--fill-color);\n",
              "    animation:\n",
              "      spin 1s steps(1) infinite;\n",
              "  }\n",
              "\n",
              "  @keyframes spin {\n",
              "    0% {\n",
              "      border-color: transparent;\n",
              "      border-bottom-color: var(--fill-color);\n",
              "      border-left-color: var(--fill-color);\n",
              "    }\n",
              "    20% {\n",
              "      border-color: transparent;\n",
              "      border-left-color: var(--fill-color);\n",
              "      border-top-color: var(--fill-color);\n",
              "    }\n",
              "    30% {\n",
              "      border-color: transparent;\n",
              "      border-left-color: var(--fill-color);\n",
              "      border-top-color: var(--fill-color);\n",
              "      border-right-color: var(--fill-color);\n",
              "    }\n",
              "    40% {\n",
              "      border-color: transparent;\n",
              "      border-right-color: var(--fill-color);\n",
              "      border-top-color: var(--fill-color);\n",
              "    }\n",
              "    60% {\n",
              "      border-color: transparent;\n",
              "      border-right-color: var(--fill-color);\n",
              "    }\n",
              "    80% {\n",
              "      border-color: transparent;\n",
              "      border-right-color: var(--fill-color);\n",
              "      border-bottom-color: var(--fill-color);\n",
              "    }\n",
              "    90% {\n",
              "      border-color: transparent;\n",
              "      border-bottom-color: var(--fill-color);\n",
              "    }\n",
              "  }\n",
              "</style>\n",
              "\n",
              "  <script>\n",
              "    async function quickchart(key) {\n",
              "      const quickchartButtonEl =\n",
              "        document.querySelector('#' + key + ' button');\n",
              "      quickchartButtonEl.disabled = true;  // To prevent multiple clicks.\n",
              "      quickchartButtonEl.classList.add('colab-df-spinner');\n",
              "      try {\n",
              "        const charts = await google.colab.kernel.invokeFunction(\n",
              "            'suggestCharts', [key], {});\n",
              "      } catch (error) {\n",
              "        console.error('Error during call to suggestCharts:', error);\n",
              "      }\n",
              "      quickchartButtonEl.classList.remove('colab-df-spinner');\n",
              "      quickchartButtonEl.classList.add('colab-df-quickchart-complete');\n",
              "    }\n",
              "    (() => {\n",
              "      let quickchartButtonEl =\n",
              "        document.querySelector('#df-b6e76e33-c409-4777-a38e-911c671dd4d9 button');\n",
              "      quickchartButtonEl.style.display =\n",
              "        google.colab.kernel.accessAllowed ? 'block' : 'none';\n",
              "    })();\n",
              "  </script>\n",
              "</div>\n",
              "    </div>\n",
              "  </div>\n"
            ]
          },
          "metadata": {},
          "execution_count": 31
        }
      ]
    },
    {
      "cell_type": "code",
      "source": [
        "X_train,X_test,Y_train,Y_test = train_test_split(X,Y,test_size=0.2,random_state=20, stratify=Y)"
      ],
      "metadata": {
        "id": "0ivo_OaPzPnL"
      },
      "execution_count": null,
      "outputs": []
    },
    {
      "cell_type": "code",
      "source": [
        "log_model = RandomForestClassifier()\n",
        "log_model = log_model.fit(X_train,Y_train)\n",
        "log_pred=log_model.predict(X_test)"
      ],
      "metadata": {
        "id": "ohvQH4qUzSe6"
      },
      "execution_count": null,
      "outputs": []
    },
    {
      "cell_type": "code",
      "source": [
        "lr = log_model.score(X_test, Y_test) * 100\n",
        "lr"
      ],
      "metadata": {
        "colab": {
          "base_uri": "https://localhost:8080/"
        },
        "id": "7RNvTys4zZ7r",
        "outputId": "6a999a07-8b61-445f-fc11-042d487c5e65"
      },
      "execution_count": null,
      "outputs": [
        {
          "output_type": "execute_result",
          "data": {
            "text/plain": [
              "94.53333333333333"
            ]
          },
          "metadata": {},
          "execution_count": 34
        }
      ]
    },
    {
      "cell_type": "code",
      "source": [
        "cm = confusion_matrix(Y_test, log_pred, labels=log_model.classes_)\n",
        "disp = ConfusionMatrixDisplay(confusion_matrix=cm,display_labels=log_model.classes_)\n",
        "disp.plot()\n",
        "plt.show()"
      ],
      "metadata": {
        "colab": {
          "base_uri": "https://localhost:8080/",
          "height": 449
        },
        "id": "5Tjc86sJzic6",
        "outputId": "b0bd7601-b579-4ab7-9876-a1df8c143394"
      },
      "execution_count": null,
      "outputs": [
        {
          "output_type": "display_data",
          "data": {
            "text/plain": [
              "<Figure size 640x480 with 2 Axes>"
            ],
            "image/png": "[encoded data removed]"
          },
          "metadata": {}
        }
      ]
    },
    {
      "cell_type": "markdown",
      "source": [
        "# PKL"
      ],
      "metadata": {
        "id": "8zD7wgqfBZXg"
      }
    },
    {
      "cell_type": "code",
      "source": [
        "import joblib\n",
        "\n",
        "#pickle\n",
        "\n",
        "model_filename = 'log_model.pkl'\n",
        "joblib.dump(log_model, model_filename)\n",
        "\n",
        "print(\"Modelo grabado!\")"
      ],
      "metadata": {
        "colab": {
          "base_uri": "https://localhost:8080/"
        },
        "id": "6011DsmX6W8-",
        "outputId": "094209c3-d01d-4263-f7bd-3b4dd13c0dcd"
      },
      "execution_count": null,
      "outputs": [
        {
          "output_type": "stream",
          "name": "stdout",
          "text": [
            "Modelo grabado!\n"
          ]
        }
      ]
    }
  ]
}